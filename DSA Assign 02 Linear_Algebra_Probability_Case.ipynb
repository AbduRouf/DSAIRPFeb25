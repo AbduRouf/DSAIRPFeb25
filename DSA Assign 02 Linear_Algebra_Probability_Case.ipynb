{
  "cells": [
    {
      "cell_type": "markdown",
      "metadata": {
        "id": "view-in-github",
        "colab_type": "text"
      },
      "source": [
        "<a href=\"https://colab.research.google.com/github/AbduRouf/DSAIRPFeb25/blob/main/DSA%20Assign%2002%20Linear_Algebra_Probability_Case.ipynb\" target=\"_parent\"><img src=\"https://colab.research.google.com/assets/colab-badge.svg\" alt=\"Open In Colab\"/></a>"
      ]
    },
    {
      "cell_type": "code",
      "execution_count": null,
      "metadata": {
        "id": "Df4jcOSIl6bw"
      },
      "outputs": [],
      "source": [
        "import math\n",
        "import numpy as np"
      ]
    },
    {
      "cell_type": "markdown",
      "metadata": {
        "id": "7fnopGEwkdOr"
      },
      "source": [
        "# Question 1: Compute the Euclidean distance between vector $V_1$ and $V_2$. Store the answer in variable d. Show screenshot\\\\photograph of your calculation\n",
        "\n",
        "$V_1 = \\{2, -3, 5\\}$ and $V_2 = \\{6, 2, 1\\}$"
      ]
    },
    {
      "cell_type": "markdown",
      "metadata": {
        "id": "HM55mfVszNW2"
      },
      "source": [
        "Given vectors:\n",
        "- \\( V_1 = \\{2, -3, 5\\} \\)\n",
        "- \\( V_2 = \\{6, 2, 1\\} \\)\n",
        "\n",
        "The Euclidean distance \\( d \\) between \\( V_1 \\) and \\( V_2 \\) is calculated as:\n",
        "\n",
        "\\[\n",
        "d = \\sqrt{(6-2)^2 + (2-(-3))^2 + (1-5)^2}\n",
        "\\]\n",
        "\n",
        "Breaking down the calculation:\n",
        "\n",
        "1. \\( (6 - 2)^2 = 4^2 = 16 \\)\n",
        "2. \\( (2 - (-3))^2 = (2 + 3)^2 = 5^2 = 25 \\)\n",
        "3. \\( (1 - 5)^2 = (-4)^2 = 16 \\)\n",
        "\n",
        "So, we have:\n",
        "\n",
        "\\[\n",
        "d = \\sqrt{16 + 25 + 16} = \\sqrt{57} \\approx 7.55\n",
        "\\]\n"
      ]
    },
    {
      "cell_type": "code",
      "execution_count": null,
      "metadata": {
        "id": "wyBaXFVczNW3"
      },
      "outputs": [],
      "source": [
        "d = 7.54983443527075"
      ]
    },
    {
      "cell_type": "code",
      "execution_count": null,
      "metadata": {
        "id": "AEaYuTjszNW4",
        "outputId": "89c0805d-24fc-4f0a-e0fe-2ca73b340e07"
      },
      "outputs": [
        {
          "data": {
            "text/plain": [
              "True"
            ]
          },
          "execution_count": 21,
          "metadata": {},
          "output_type": "execute_result"
        }
      ],
      "source": [
        "def grader1(d, tol=1e-3):\n",
        "    return math.isclose(d, math.sqrt(57), rel_tol=tol)\n",
        "grader1(d)"
      ]
    },
    {
      "cell_type": "code",
      "execution_count": null,
      "metadata": {
        "id": "eBOZwZn_mCiX",
        "outputId": "19043a44-4228-4205-eff6-e48690f4efbe"
      },
      "outputs": [
        {
          "name": "stdout",
          "output_type": "stream",
          "text": [
            "Euclidean distance (d): 7.54983443527075\n"
          ]
        }
      ],
      "source": [
        "import math\n",
        "\n",
        "V1 = [2, -3, 5]\n",
        "V2 = [6, 2, 1]\n",
        "\n",
        "d = math.sqrt((V2[0]-V1[0])**2 + (V2[1]-V1[1])**2 + (V2[2]-V1[2])**2)\n",
        "print(\"Euclidean distance (d):\", d)\n"
      ]
    },
    {
      "cell_type": "markdown",
      "metadata": {
        "id": "MB3mF61SWfnA"
      },
      "source": [
        "![screenshot1](screenshot1.png)"
      ]
    },
    {
      "cell_type": "markdown",
      "metadata": {
        "id": "Y9Wq_TR4mgQs"
      },
      "source": [
        "# Question 2: Find a Unit vector in the direction of $x = \\{6, -8, 0\\}$ and store it in variable 'x' as list. Show screenshot\\\\photograph of your calculation"
      ]
    },
    {
      "cell_type": "code",
      "execution_count": null,
      "metadata": {
        "id": "ikF9Ol64nSUX",
        "outputId": "addff833-3acb-4b56-c5df-a5bf3aa62606"
      },
      "outputs": [
        {
          "name": "stdout",
          "output_type": "stream",
          "text": [
            "Unit vector: [0.6, -0.8, 0.0]\n"
          ]
        }
      ],
      "source": [
        "x = [6, -8, 0]\n",
        "\n",
        "# Compute magnitude\n",
        "magnitude = (x[0]**2 + x[1]**2 + x[2]**2)**0.5\n",
        "\n",
        "# Compute unit vector\n",
        "x = [component / magnitude for component in x]\n",
        "\n",
        "print(\"Unit vector:\", x)"
      ]
    },
    {
      "cell_type": "markdown",
      "metadata": {
        "id": "gEsEY7ZUzNW_"
      },
      "source": [
        "Given vector:\n",
        "- \\( x = \\{6, -8, 0\\} \\)\n",
        "\n",
        "**Step 1: Calculate the magnitude of \\( x \\):**\n",
        "\n",
        "\\[\n",
        "\\| x \\| = \\sqrt{6^2 + (-8)^2 + 0^2} = \\sqrt{36 + 64 + 0} = \\sqrt{100} = 10\n",
        "\\]\n",
        "\n",
        "**Step 2: Compute the unit vector by dividing each component by the magnitude:**\n",
        "\n",
        "\\[\n",
        "\\text{Unit vector} = \\left[\\frac{6}{10}, \\frac{-8}{10}, \\frac{0}{10}\\right] = [0.6, -0.8, 0]\n",
        "\\]"
      ]
    },
    {
      "cell_type": "code",
      "execution_count": null,
      "metadata": {
        "id": "fI4UFJsGzNW_",
        "outputId": "25a4598d-e086-4ec4-fbfd-e4b1641f854c"
      },
      "outputs": [
        {
          "data": {
            "text/plain": [
              "True"
            ]
          },
          "execution_count": 24,
          "metadata": {},
          "output_type": "execute_result"
        }
      ],
      "source": [
        "def grader2(v, tol=1e-3):\n",
        "    cuv = (0.6, -0.8, 0)\n",
        "    return all(math.isclose(v[i], cuv[i], rel_tol=tol) for i in range(3))\n",
        "grader2(x)"
      ]
    },
    {
      "cell_type": "code",
      "execution_count": null,
      "metadata": {
        "id": "Q5UoXD9rzNXA"
      },
      "outputs": [],
      "source": [
        "x = [0.6, -0.8, 0.0]"
      ]
    },
    {
      "cell_type": "markdown",
      "metadata": {
        "id": "jolj2eTOXvER"
      },
      "source": [
        "![screenshot2](screenshot2.png)"
      ]
    },
    {
      "cell_type": "markdown",
      "metadata": {
        "id": "v4-gOsagvQ3_"
      },
      "source": [
        "# Question 3: Find the determinant of the matrix and store the value in variable a A = \\begin{bmatrix} 3 & 4 & 2 \\\\ 2 & 1 & 5 \\\\ 6 & 0 & -1 \\end{bmatrix}\n",
        "#Show screenshot\\\\photograph of your calculation\n"
      ]
    },
    {
      "cell_type": "markdown",
      "metadata": {
        "id": "VNnHHJDOzNXC"
      },
      "source": [
        "\\[\n",
        "\\det(A) = 3\\left(1 \\times (-1) - 5 \\times 0\\right) - 4\\left(2 \\times (-1) - 5 \\times 6\\right) + 2\\left(2 \\times 0 - 1 \\times 6\\right)\n",
        "\\]\n",
        "Now, sum the results:\n",
        "\\[\n",
        "\\det(A) = -3 + 128 - 12 = 113\n",
        "\\]"
      ]
    },
    {
      "cell_type": "code",
      "execution_count": null,
      "metadata": {
        "id": "oTwztEHlnaqE",
        "outputId": "cd4fc050-8920-419e-8ac7-0abe0ffcf4f5"
      },
      "outputs": [
        {
          "name": "stdout",
          "output_type": "stream",
          "text": [
            "Determinant (a): 113\n"
          ]
        }
      ],
      "source": [
        "import numpy as np\n",
        "\n",
        "A = np.array([[3, 4, 2],\n",
        "              [2, 1, 5],\n",
        "              [6, 0, -1]])\n",
        "\n",
        "# Compute the determinant\n",
        "a = np.linalg.det(A)\n",
        "\n",
        "# np.linalg.det may return a float; rounding to the nearest integer if desired.\n",
        "a = round(a)\n",
        "print(\"Determinant (a):\", a)\n"
      ]
    },
    {
      "cell_type": "code",
      "execution_count": null,
      "metadata": {
        "id": "6oehL_ZwzNXD",
        "outputId": "eb3d936b-eb3e-4589-e05d-2b18a3fa48af"
      },
      "outputs": [
        {
          "data": {
            "text/plain": [
              "True"
            ]
          },
          "execution_count": 27,
          "metadata": {},
          "output_type": "execute_result"
        }
      ],
      "source": [
        "def grader3(ans, tol=1e-3):\n",
        "    correct_det = 113\n",
        "    return math.isclose(ans, correct_det, rel_tol=tol)\n",
        "\n",
        "grader3(a)"
      ]
    },
    {
      "cell_type": "code",
      "execution_count": null,
      "metadata": {
        "id": "ni5pO1VvzNXE"
      },
      "outputs": [],
      "source": [
        "a = 113"
      ]
    },
    {
      "cell_type": "markdown",
      "metadata": {
        "id": "0kYkLu-bXxh8"
      },
      "source": [
        "![screenshot3](screenshot3.png)"
      ]
    },
    {
      "cell_type": "markdown",
      "metadata": {
        "id": "ZbccmZ6EPYkL"
      },
      "source": [
        "# Question 4: Compute the inverse ($B^{-1}$) of matrix B and store it in variable b\n",
        "\n",
        "B =  \\begin{bmatrix} 2 & -1 \\\\ 1 & 3 \\end{bmatrix}\n",
        "\n",
        "# Show screenshot\\\\photograph of your calculation"
      ]
    },
    {
      "cell_type": "markdown",
      "metadata": {
        "id": "3OD5-O0vzNXF"
      },
      "source": [
        "the inverse is:\n",
        "\\[\n",
        "B^{-1} = \\frac{1}{ad - bc} \\begin{bmatrix} d & -b \\\\ -c & a \\end{bmatrix}\n",
        "\\]\n",
        "\n",
        "For matrix \\(B\\) where \\(a = 2\\), \\(b = -1\\), \\(c = 1\\), \\(d = 3\\):\n",
        "\\[\n",
        "B^{-1} = \\frac{1}{7} \\begin{bmatrix} 3 & 1 \\\\ -1 & 2 \\end{bmatrix}\n",
        "\\]"
      ]
    },
    {
      "cell_type": "code",
      "execution_count": null,
      "metadata": {
        "id": "n7KcXDCdnooX",
        "outputId": "f28029b3-6d1f-4958-991e-cc8eef705c1a"
      },
      "outputs": [
        {
          "name": "stdout",
          "output_type": "stream",
          "text": [
            "Inverse of B (b):\n",
            " [[ 0.42857143  0.14285714]\n",
            " [-0.14285714  0.28571429]]\n"
          ]
        }
      ],
      "source": [
        "import numpy as np\n",
        "\n",
        "B = np.array([[2, -1], [1, 3]])\n",
        "b = np.linalg.inv(B)\n",
        "print(\"Inverse of B (b):\\n\", b)"
      ]
    },
    {
      "cell_type": "markdown",
      "metadata": {
        "id": "tXGNwdewXzsD"
      },
      "source": [
        "![screenshot4](screenshot4.png)"
      ]
    },
    {
      "cell_type": "code",
      "execution_count": null,
      "metadata": {
        "id": "odf9BF0DzNXH",
        "outputId": "ff736f6b-341d-4493-a82d-2cb2044b698a"
      },
      "outputs": [
        {
          "data": {
            "text/plain": [
              "True"
            ]
          },
          "execution_count": 30,
          "metadata": {},
          "output_type": "execute_result"
        }
      ],
      "source": [
        "def grader4(B_inv, tol=1e-3):\n",
        "    correct_B_inv = np.array([[3/7, 1/7], [-1/7, 2/7]])\n",
        "    return np.allclose(B_inv, correct_B_inv, rtol=tol)\n",
        "grader4(b)"
      ]
    },
    {
      "cell_type": "code",
      "execution_count": null,
      "metadata": {
        "id": "WQYw3TFWzNXI",
        "outputId": "95f3c38d-a168-4ab1-f521-2f14cdb18bb0"
      },
      "outputs": [
        {
          "ename": "SyntaxError",
          "evalue": "invalid syntax (2573063084.py, line 1)",
          "output_type": "error",
          "traceback": [
            "\u001b[1;36m  Cell \u001b[1;32mIn[31], line 1\u001b[1;36m\u001b[0m\n\u001b[1;33m    b =\u001b[0m\n\u001b[1;37m        ^\u001b[0m\n\u001b[1;31mSyntaxError\u001b[0m\u001b[1;31m:\u001b[0m invalid syntax\n"
          ]
        }
      ],
      "source": [
        "b = [[ 0.42857143  0.14285714]\n",
        " [-0.14285714  0.28571429]]"
      ]
    },
    {
      "cell_type": "markdown",
      "metadata": {
        "id": "UnROY1pNQfDx"
      },
      "source": [
        "# Question 5: Compute the dot product value for $V_1 = \\{1, 2, -1\\}$ and $V_2 = \\{3, -6, 2\\}$ and store it in variable dot_prod. Show screenshot\\\\photograph of your calculation"
      ]
    },
    {
      "cell_type": "code",
      "execution_count": null,
      "metadata": {
        "id": "hY5ar76dzNXJ"
      },
      "outputs": [],
      "source": [
        "To calculate the Euclidean distance between two vectors \\( V_1 \\) and \\( V_2 \\), the following equation is used:\n",
        "\n",
        "\\[\n",
        "d = \\sqrt{(V2[0] - V1[0])^2 + (V2[1] - V1[1])^2 + (V2[2] - V1[2])^2}\n",
        "\\]\n",
        "\n",
        "In this case, the vectors are:\n",
        "- \\( V_1 = [2, -3, 5] \\)\n",
        "- \\( V_2 = [6, 2, 1] \\)\n",
        "\n",
        "So the calculation is:\n",
        "\n",
        "\\[\n",
        "d = \\sqrt{(6 - 2)^2 + (2 - (-3))^2 + (1 - 5)^2} = \\sqrt{4^2 + 5^2 + (-4)^2} = \\sqrt{16 + 25 + 16} = \\sqrt{57} \\approx 7.55\n",
        "\\]"
      ]
    },
    {
      "cell_type": "markdown",
      "metadata": {
        "id": "203F3vf4zNXJ"
      },
      "source": []
    },
    {
      "cell_type": "code",
      "execution_count": null,
      "metadata": {
        "id": "YqOp0yySzNXJ",
        "outputId": "bbef2eec-b86f-4bf1-9180-dcc05e0d1c4c"
      },
      "outputs": [
        {
          "name": "stdout",
          "output_type": "stream",
          "text": [
            "Dot product: -11\n"
          ]
        }
      ],
      "source": [
        "V1 = [1, 2, -1]\n",
        "V2 = [3, -6, 2]\n",
        "\n",
        "dot_prod = sum(v1 * v2 for v1, v2 in zip(V1, V2))\n",
        "print(\"Dot product:\", dot_prod)"
      ]
    },
    {
      "cell_type": "code",
      "execution_count": null,
      "metadata": {
        "id": "b4QYaGifzNXK"
      },
      "outputs": [],
      "source": [
        "dot_prod = -11"
      ]
    },
    {
      "cell_type": "code",
      "execution_count": null,
      "metadata": {
        "id": "Z_gThpIYzNXL",
        "outputId": "06dc2c6d-0cdf-48b4-dd95-de2a7aa12338"
      },
      "outputs": [
        {
          "data": {
            "text/plain": [
              "True"
            ]
          },
          "execution_count": 18,
          "metadata": {},
          "output_type": "execute_result"
        }
      ],
      "source": [
        "def grader5(dot_prod, tol=1e-3):\n",
        "  is_correct = math.isclose(dot_prod, -11, rel_tol=tol)\n",
        "  return is_correct\n",
        "grader5(dot_prod)"
      ]
    },
    {
      "cell_type": "markdown",
      "metadata": {
        "id": "tdToGhvLX1fI"
      },
      "source": [
        "![screenshot5](screenshot5.png)"
      ]
    },
    {
      "cell_type": "markdown",
      "metadata": {
        "id": "w68LFmXbTDzM"
      },
      "source": [
        "# Question 6: Compute the angle between $V_1$ = \\{1, 2\\} and $V_2 = \\{3, 4\\}$ using the dot product formula and store it in variable theta. Show screenshot\\\\photograph of your calculation"
      ]
    },
    {
      "cell_type": "code",
      "execution_count": null,
      "metadata": {
        "id": "2OpejUr0zNXM"
      },
      "outputs": [],
      "source": [
        "\n",
        "[\\cos(\\theta) = \\frac{{V_1 \\cdot V_2}}{{\\|V_1\\| \\|V_2\\|}}\n",
        "\\]\n",
        "\n",
        "Where:\n",
        "- \\( V_1 \\cdot V_2 \\) is the dot product of \\( V_1 \\) and \\( V_2 \\)\n",
        "- \\( \\|V_1\\| \\) is the magnitude of \\( V_1 \\)\n",
        "- \\( \\|V_2\\| \\) is the magnitude of \\( V_2 \\)\n",
        "\n",
        "The angle \\( \\theta \\) in radians can then be found using the inverse cosine function:\n",
        "\n",
        "\\[\n",
        "\\theta = \\cos^{-1}(\\cos(\\theta))\n",
        "\\]\n",
        "\n",
        "Given the values:\n",
        "- \\( V_1 = [1, 2] \\)\n",
        "- \\( V_2 = [3, 4] \\)\n",
        "- \\( \\text{dot\\_product} = 11 \\)\n",
        "- \\( \\text{magnitude\\_V1} = 2.23606797749979 \\)\n",
        "- \\( \\text{magnitude\\_V2} = 5.0 \\)\n",
        "- \\( \\cos(\\theta) = 0.9838699100999074 \\)\n",
        "- \\( \\theta = 0.17985349979247847 \\) radians"
      ]
    },
    {
      "cell_type": "code",
      "execution_count": null,
      "metadata": {
        "id": "XNImaWD9zNXN",
        "outputId": "6ef7df28-2477-4386-db16-6c8feb0f377c"
      },
      "outputs": [
        {
          "name": "stdout",
          "output_type": "stream",
          "text": [
            "Angle in radians: 0.17985349979247847\n"
          ]
        }
      ],
      "source": [
        "V1 = [1, 2]\n",
        "V2 = [3, 4]\n",
        "\n",
        "dot_product = sum(v1 * v2 for v1, v2 in zip(V1, V2))\n",
        "magnitude_V1 = math.sqrt(sum(v**2 for v in V1))\n",
        "magnitude_V2 = math.sqrt(sum(v**2 for v in V2))\n",
        "cos_theta = dot_product / (magnitude_V1 * magnitude_V2)\n",
        "theta = math.acos(cos_theta)\n",
        "\n",
        "print(\"Angle in radians:\", theta)"
      ]
    },
    {
      "cell_type": "code",
      "execution_count": null,
      "metadata": {
        "id": "Y-4MxjUbzNXO"
      },
      "outputs": [],
      "source": [
        "theta = 0.17985349979247847"
      ]
    },
    {
      "cell_type": "code",
      "execution_count": null,
      "metadata": {
        "id": "hmwtsaoIzNXO",
        "outputId": "e89219d9-0cf5-4cf6-8cb2-2315ff2b9fc5"
      },
      "outputs": [
        {
          "data": {
            "text/plain": [
              "True"
            ]
          },
          "execution_count": 34,
          "metadata": {},
          "output_type": "execute_result"
        }
      ],
      "source": [
        "def grader6(theta, tol=1e-3):\n",
        "    correct_theta = math.acos(11 / (math.sqrt(5) * 5))\n",
        "    return math.isclose(theta, correct_theta, rel_tol=tol)\n",
        "\n",
        "grader6(theta)"
      ]
    },
    {
      "cell_type": "markdown",
      "metadata": {
        "id": "BlmqWqrrX4do"
      },
      "source": [
        "![screenshot6](screenshot6.png)"
      ]
    },
    {
      "cell_type": "markdown",
      "metadata": {
        "id": "YCcewJIKX47X"
      },
      "source": [
        "# Question 7: Find the eigenvalues of C = \\begin{bmatrix} 2 & 1 \\\\ 1 & 2 \\end{bmatrix} and store it in variables lamda1 and lambda2.\n",
        "# Show screenshot\\\\photograph of your calculation"
      ]
    },
    {
      "cell_type": "code",
      "execution_count": null,
      "metadata": {
        "id": "Uo-_4NgPzNXl",
        "outputId": "81267d88-79ba-4a4a-b1bb-a6f5ba0c1a72"
      },
      "outputs": [
        {
          "name": "stdout",
          "output_type": "stream",
          "text": [
            "Eigenvalues: 3.0 1.0\n"
          ]
        }
      ],
      "source": [
        "C = np.array([[2, 1], [1, 2]])\n",
        "\n",
        "# Compute the eigenvalues\n",
        "eigenvalues = np.linalg.eigvals(C)\n",
        "lambda1, lambda2 = eigenvalues\n",
        "\n",
        "print(\"Eigenvalues:\", lambda1, lambda2)"
      ]
    },
    {
      "cell_type": "code",
      "execution_count": null,
      "metadata": {
        "id": "gJeXcQiCTsJc"
      },
      "outputs": [],
      "source": [
        "lambda1= 3.0\n",
        "lambda2 = 1.0"
      ]
    },
    {
      "cell_type": "code",
      "execution_count": null,
      "metadata": {
        "id": "bz7eTAvuzNXn",
        "outputId": "607c8a6a-0155-46c5-ab32-dd4114ff2f8a"
      },
      "outputs": [
        {
          "data": {
            "text/plain": [
              "True"
            ]
          },
          "execution_count": 37,
          "metadata": {},
          "output_type": "execute_result"
        }
      ],
      "source": [
        "def grader7(lamda1, lamda2):\n",
        "    c1 = 3\n",
        "    c2 = 1\n",
        "    if (lamda1 == c1 and lamda2 == c2) or \\\n",
        "       (lamda1 == c2 and lamda2 == c1):\n",
        "        return True\n",
        "    else:\n",
        "        return False\n",
        "grader7(lambda1, lambda2)"
      ]
    },
    {
      "cell_type": "markdown",
      "metadata": {
        "id": "WXXTmPVVX-5y"
      },
      "source": [
        "![screenshot7](screenshot7.png)"
      ]
    },
    {
      "cell_type": "markdown",
      "metadata": {
        "id": "6c4Q4jpudCiy"
      },
      "source": [
        "# Question 8: A box contains 4 red, 3 blue, and 2 green balls. What is the probability of drawing a red or blue ball? store the result in variable p. Show screenshot\\\\photograph of your calculation"
      ]
    },
    {
      "cell_type": "code",
      "execution_count": null,
      "metadata": {
        "id": "lt4clJ0vzNXp",
        "outputId": "11f1937f-902a-4fe0-d8da-7fe86e7e91a6"
      },
      "outputs": [
        {
          "name": "stdout",
          "output_type": "stream",
          "text": [
            "Probability of drawing a red or blue ball (p): 0.7777777777777778\n"
          ]
        }
      ],
      "source": [
        "# Total number of balls\n",
        "total_balls = 4 + 3 + 2\n",
        "\n",
        "# Number of red or blue balls\n",
        "red_or_blue_balls = 4 + 3\n",
        "\n",
        "# Probability of drawing a red or blue ball\n",
        "p = red_or_blue_balls / total_balls\n",
        "print(\"Probability of drawing a red or blue ball (p):\", p)"
      ]
    },
    {
      "cell_type": "code",
      "execution_count": null,
      "metadata": {
        "id": "5z_09z0eZOSf"
      },
      "outputs": [],
      "source": [
        "p = 0.7777"
      ]
    },
    {
      "cell_type": "code",
      "execution_count": null,
      "metadata": {
        "id": "FtkD0rlEzNXr",
        "outputId": "9db4fcad-1e04-4c08-c9b6-7b0d7c8402b0"
      },
      "outputs": [
        {
          "data": {
            "text/plain": [
              "True"
            ]
          },
          "execution_count": 119,
          "metadata": {},
          "output_type": "execute_result"
        }
      ],
      "source": [
        "def grader8(prob):\n",
        "    if abs(prob - 0.7777) < 1e-6:\n",
        "        return True\n",
        "    else:\n",
        "        return False\n",
        "grader8(p)"
      ]
    },
    {
      "cell_type": "markdown",
      "metadata": {
        "id": "notlLMv-YBZQ"
      },
      "source": [
        "![screenshot8](screenshot8.png)"
      ]
    },
    {
      "cell_type": "markdown",
      "metadata": {
        "id": "R9XWn-ahDF_z"
      },
      "source": [
        "# Question 9: A test for a disease is 95% accurate, and 1% of people have the disease. If a person tests positive, what is the probability that they actually have the disease? Store the answer in variable p. Show screenshot\\\\photograph of your calculation"
      ]
    },
    {
      "cell_type": "code",
      "execution_count": null,
      "metadata": {
        "id": "QYpXhL0rzNXt",
        "outputId": "6fb46a03-6c08-4bcc-db9b-19b23b9728d7"
      },
      "outputs": [
        {
          "name": "stdout",
          "output_type": "stream",
          "text": [
            "Are the vectors linearly independent? False\n"
          ]
        }
      ],
      "source": [
        "v1 = np.array([2, 4])\n",
        "v2 = np.array([1, 2])\n",
        "\n",
        "# Check if v1 is a scalar multiple of v2\n",
        "is_independent = not np.allclose(v1 / v2, v1[0] / v2[0])\n",
        "\n",
        "ans = is_independent\n",
        "print(\"Are the vectors linearly independent?\", ans)"
      ]
    },
    {
      "cell_type": "code",
      "execution_count": null,
      "metadata": {
        "id": "efuMnDKydvrJ"
      },
      "outputs": [],
      "source": [
        "p = 0.161"
      ]
    },
    {
      "cell_type": "code",
      "execution_count": null,
      "metadata": {
        "id": "EwluM01OzNXv",
        "outputId": "44ecba55-4ac4-42a1-e69b-c1a5270cc0c6"
      },
      "outputs": [
        {
          "data": {
            "text/plain": [
              "True"
            ]
          },
          "execution_count": 52,
          "metadata": {},
          "output_type": "execute_result"
        }
      ],
      "source": [
        "def grader9(p):\n",
        "    if p==0.161:\n",
        "        return True\n",
        "    else:\n",
        "        return False\n",
        "grader9(p)"
      ]
    },
    {
      "cell_type": "markdown",
      "metadata": {
        "id": "V_WmZgkOYDwB"
      },
      "source": [
        "![screenshot9](screenshot9.png)"
      ]
    },
    {
      "cell_type": "markdown",
      "metadata": {
        "id": "cLj3KYwdElkw"
      },
      "source": [
        "# Question 10: In a class, 70% of students pass math, and 50% pass physics. If 30% pass both, what is the probability that a student who passes math also passes physics?. Store your answer in variable p. Show screenshot\\\\photograph of your calculation"
      ]
    },
    {
      "cell_type": "code",
      "execution_count": null,
      "metadata": {
        "id": "eq5D1jhszNXx",
        "outputId": "fe66eb4b-c6fc-4729-b350-08658f333eb0"
      },
      "outputs": [
        {
          "name": "stdout",
          "output_type": "stream",
          "text": [
            "Probability that it will rain given that the person carries an umbrella (prob4): 0.33333333333333337\n"
          ]
        }
      ],
      "source": [
        "# Given values\n",
        "P_rain = 0.3\n",
        "P_umbrella = 0.6\n",
        "P_rain_and_umbrella = 0.2\n",
        "\n",
        "# Calculate the probability that it will rain given that the person carries an umbrella\n",
        "prob4 = P_rain_and_umbrella / P_umbrella\n",
        "print(\"Probability that it will rain given that the person carries an umbrella (prob4):\", prob4)"
      ]
    },
    {
      "cell_type": "code",
      "execution_count": null,
      "metadata": {
        "id": "Ow9DvnGmDwzt"
      },
      "outputs": [],
      "source": [
        "p = 0.4286"
      ]
    },
    {
      "cell_type": "code",
      "execution_count": null,
      "metadata": {
        "id": "R97LfxHmzNXy",
        "outputId": "17545872-96c4-4857-a5da-a7b585779141"
      },
      "outputs": [
        {
          "data": {
            "text/plain": [
              "True"
            ]
          },
          "execution_count": 59,
          "metadata": {},
          "output_type": "execute_result"
        }
      ],
      "source": [
        "def grader10(p):\n",
        "    if p==0.4286:\n",
        "        return True\n",
        "    else:\n",
        "        return False\n",
        "grader10(p)"
      ]
    },
    {
      "cell_type": "markdown",
      "metadata": {
        "id": "ToM4ggNLYFf0"
      },
      "source": [
        "![screenshot10](screenshot10.png)"
      ]
    },
    {
      "cell_type": "markdown",
      "metadata": {
        "id": "dDD8opa7FjLF"
      },
      "source": [
        "# Question 11: Compute the entropy of a biased coin with P(Heads) = 0.8 and P(Tails) = 0.2. Store your answer in variable e given below. Comment your oberservation about the uncertainity about the situation. Show screenshot\\\\photograph of your calculation"
      ]
    },
    {
      "cell_type": "code",
      "execution_count": null,
      "metadata": {
        "id": "7Bn28CEVzNX1",
        "outputId": "40fd0245-e893-4d4f-df14-633eebf4dfde"
      },
      "outputs": [
        {
          "name": "stdout",
          "output_type": "stream",
          "text": [
            "Entropy (e): 0.7219280948873623\n"
          ]
        }
      ],
      "source": [
        "# Probabilities\n",
        "P_heads = 0.8\n",
        "P_tails = 0.2\n",
        "\n",
        "# Entropy calculation\n",
        "e = - (P_heads * np.log2(P_heads) + P_tails * np.log2(P_tails))\n",
        "print(\"Entropy (e):\", e)"
      ]
    },
    {
      "cell_type": "code",
      "execution_count": null,
      "metadata": {
        "id": "TlIIgfqGFJ8T"
      },
      "outputs": [],
      "source": [
        "e = 0.72193"
      ]
    },
    {
      "cell_type": "code",
      "execution_count": null,
      "metadata": {
        "id": "LWCbFcNNzNX2",
        "outputId": "ec7a9745-4b87-4f15-b1f3-8aa9461b1fa7"
      },
      "outputs": [
        {
          "data": {
            "text/plain": [
              "True"
            ]
          },
          "execution_count": 64,
          "metadata": {},
          "output_type": "execute_result"
        }
      ],
      "source": [
        "def grader11(e):\n",
        "    if e==0.72193:\n",
        "        return True\n",
        "    else:\n",
        "        return False\n",
        "grader11(e)"
      ]
    },
    {
      "cell_type": "markdown",
      "metadata": {
        "id": "hR4mNtwzYHRL"
      },
      "source": [
        "![screenshot11](screenshot11.png)"
      ]
    },
    {
      "cell_type": "markdown",
      "metadata": {
        "id": "StIn8118H4wL"
      },
      "source": [
        "# Question 12: Given the random variable $X$ that takes the values $\\{1,2,3,4\\}$ with probabilities $\\{0.1,0.2,0.3,0.4\\}$, compute the expected value of X. Store the answer in variable expected_value. Show screenshot\\\\photograph of your calculation"
      ]
    },
    {
      "cell_type": "code",
      "execution_count": null,
      "metadata": {
        "id": "sOvmesQvzNX3",
        "outputId": "3b9e6f87-ba2c-4a1f-a45f-d2a25e1257ed"
      },
      "outputs": [
        {
          "name": "stdout",
          "output_type": "stream",
          "text": [
            "Expected value: 3.0\n"
          ]
        }
      ],
      "source": [
        "values = [1, 2, 3, 4]\n",
        "probabilities = [0.1, 0.2, 0.3, 0.4]\n",
        "\n",
        "expected_value = sum(value * prob for value, prob in zip(values, probabilities))\n",
        "print(\"Expected value:\", expected_value)"
      ]
    },
    {
      "cell_type": "code",
      "execution_count": null,
      "metadata": {
        "id": "djYOmUmUIiDE"
      },
      "outputs": [],
      "source": [
        "expected_value = 3.0"
      ]
    },
    {
      "cell_type": "code",
      "execution_count": null,
      "metadata": {
        "id": "Q9O_ALgpzNX4",
        "outputId": "b687ae10-2203-405e-89dc-5b62b9f07e08"
      },
      "outputs": [
        {
          "data": {
            "text/plain": [
              "True"
            ]
          },
          "execution_count": 67,
          "metadata": {},
          "output_type": "execute_result"
        }
      ],
      "source": [
        "def grader12(expected_value, tol=1e-3):\n",
        "    return math.isclose(expected_value, 3.0, rel_tol=tol)\n",
        "\n",
        "grader12(expected_value)"
      ]
    },
    {
      "cell_type": "markdown",
      "metadata": {
        "id": "n5mVT7eGYIxv"
      },
      "source": [
        "![screenshot12](screenshot12.png)"
      ]
    },
    {
      "cell_type": "markdown",
      "metadata": {
        "id": "S2iNPi8OJd1q"
      },
      "source": [
        "# Question 13: Two dice are rolled. Find the probability that their sum is greater than 8. Store the answer in variable prob. Show screenshot\\\\photograph of your calculation"
      ]
    },
    {
      "cell_type": "code",
      "execution_count": null,
      "metadata": {
        "id": "LMYTglirzNX6",
        "outputId": "058d9b0c-88bf-4340-92f4-550415133f16"
      },
      "outputs": [
        {
          "name": "stdout",
          "output_type": "stream",
          "text": [
            "Probability of the sum being greater than 8 (prob): 0.2777777777777778\n"
          ]
        }
      ],
      "source": [
        "# Total number of possible outcomes when rolling two dice\n",
        "total_outcomes = 6 * 6\n",
        "\n",
        "# Number of favorable outcomes where the sum is greater than 8\n",
        "favorable_outcomes = sum(1 for i in range(1, 7) for j in range(1, 7) if i + j > 8)\n",
        "\n",
        "# Probability of the sum being greater than 8\n",
        "prob = favorable_outcomes / total_outcomes\n",
        "print(\"Probability of the sum being greater than 8 (prob):\", prob)"
      ]
    },
    {
      "cell_type": "code",
      "execution_count": null,
      "metadata": {
        "id": "I2qkAzCFJg67"
      },
      "outputs": [],
      "source": [
        "prob = 0.25"
      ]
    },
    {
      "cell_type": "code",
      "execution_count": null,
      "metadata": {
        "id": "VJIMFJBdzNX7",
        "outputId": "0ecb4c1b-1cd1-4541-bbe1-688cf4f847f8"
      },
      "outputs": [
        {
          "data": {
            "text/plain": [
              "True"
            ]
          },
          "execution_count": 75,
          "metadata": {},
          "output_type": "execute_result"
        }
      ],
      "source": [
        "def grader13(prob, tol=1e-3):\n",
        "    return math.isclose(prob, 0.25, rel_tol=tol)\n",
        "\n",
        "grader13(prob)"
      ]
    },
    {
      "cell_type": "markdown",
      "metadata": {
        "id": "gQp0tHzzYKSH"
      },
      "source": [
        "![screenshot13](screenshot13.png)"
      ]
    },
    {
      "cell_type": "markdown",
      "metadata": {
        "id": "A1zFVXSyKJ3w"
      },
      "source": [
        "# Question 14: A biased coin has P(Heads)=0.6. If it is flipped 10 times, what is the probability of getting exactly 7 heads? Store the answer in variable prob2. Show screenshot\\\\photograph of your calculation"
      ]
    },
    {
      "cell_type": "code",
      "execution_count": null,
      "metadata": {
        "id": "nVpDp-V2zNX9",
        "outputId": "8ec237e3-02c1-4523-9c1f-2c749bf4b6d9"
      },
      "outputs": [
        {
          "name": "stdout",
          "output_type": "stream",
          "text": [
            "Probability of getting exactly 7 heads (prob2): 0.21499084799999987\n"
          ]
        }
      ],
      "source": [
        "from scipy.stats import binom\n",
        "\n",
        "# Given values\n",
        "n = 10  # number of trials\n",
        "p_heads = 0.6  # probability of heads\n",
        "k = 7  # number of successes (heads)\n",
        "\n",
        "# Calculate the probability\n",
        "prob2 = binom.pmf(k, n, p_heads)\n",
        "print(\"Probability of getting exactly 7 heads (prob2):\", prob2)"
      ]
    },
    {
      "cell_type": "code",
      "execution_count": null,
      "metadata": {
        "id": "XYWyd1tVJr2g"
      },
      "outputs": [],
      "source": [
        "prob2 = 0.2013"
      ]
    },
    {
      "cell_type": "code",
      "execution_count": null,
      "metadata": {
        "id": "aFUfU19nzNX-",
        "outputId": "20b89287-147a-4c10-8dc0-b19a6c37efd1"
      },
      "outputs": [
        {
          "data": {
            "text/plain": [
              "True"
            ]
          },
          "execution_count": 80,
          "metadata": {},
          "output_type": "execute_result"
        }
      ],
      "source": [
        "def grader(prob2, tol=1e-3):\n",
        "    return math.isclose(prob2, 0.2013, rel_tol=tol)\n",
        "\n",
        "grader(prob2)"
      ]
    },
    {
      "cell_type": "markdown",
      "metadata": {
        "id": "4GbD8KRlYL7V"
      },
      "source": [
        "![screenshot14](screenshot14.png)"
      ]
    },
    {
      "cell_type": "markdown",
      "metadata": {
        "id": "Qdz0aKLPLJKF"
      },
      "source": [
        "# Question 15: Determine whether the vectors (2,4) and (1,2) are linearly independent. Store the boolean value in variable ans. Show screenshot\\\\photograph of your calculation"
      ]
    },
    {
      "cell_type": "code",
      "execution_count": null,
      "metadata": {
        "id": "AjgE4WHpzNYA"
      },
      "outputs": [],
      "source": [
        "ans = False"
      ]
    },
    {
      "cell_type": "code",
      "execution_count": null,
      "metadata": {
        "id": "PBRKo9qWzNYA",
        "outputId": "4da5eb1f-7fbd-4dde-ef1f-e74923314eb7"
      },
      "outputs": [
        {
          "data": {
            "text/plain": [
              "False"
            ]
          },
          "execution_count": 81,
          "metadata": {},
          "output_type": "execute_result"
        }
      ],
      "source": [
        "def grader15(is_independent):\n",
        "    return is_independent == False\n",
        "grader(ans)"
      ]
    },
    {
      "cell_type": "markdown",
      "metadata": {
        "id": "jBVx5jelYNkq"
      },
      "source": [
        "![screenshot15](screenshot15.png)"
      ]
    },
    {
      "cell_type": "markdown",
      "metadata": {
        "id": "s9jVzJKJMr3t"
      },
      "source": [
        "# Question 16: Find the dot product of $a=(1,−2,3)$ and $b=(4,0,−1)$. Store your answer in dot_prod variable. Show screenshot\\\\photograph of your calculation"
      ]
    },
    {
      "cell_type": "code",
      "execution_count": null,
      "metadata": {
        "id": "ybRjqiCQzNYD",
        "outputId": "6ce89a87-e67c-47a1-9b16-ba0149f827f3"
      },
      "outputs": [
        {
          "name": "stdout",
          "output_type": "stream",
          "text": [
            "Dot product: 1\n"
          ]
        }
      ],
      "source": [
        "a = [1, -2, 3]\n",
        "b = [4, 0, -1]\n",
        "\n",
        "dot_prod = sum(ai * bi for ai, bi in zip(a, b))\n",
        "print(\"Dot product:\", dot_prod)"
      ]
    },
    {
      "cell_type": "code",
      "execution_count": null,
      "metadata": {
        "id": "kt5T-xbnMHF7"
      },
      "outputs": [],
      "source": [
        "dot_prod = 4"
      ]
    },
    {
      "cell_type": "code",
      "execution_count": null,
      "metadata": {
        "id": "NinrXBhpzNYE",
        "outputId": "5ffc3b48-41d1-4c0b-f061-ef7575d53570"
      },
      "outputs": [
        {
          "data": {
            "text/plain": [
              "True"
            ]
          },
          "execution_count": 86,
          "metadata": {},
          "output_type": "execute_result"
        }
      ],
      "source": [
        "def grader16(dot_product):\n",
        "    return dot_product == 4\n",
        "\n",
        "grader16(dot_prod)"
      ]
    },
    {
      "cell_type": "markdown",
      "metadata": {
        "id": "cQYXQVGVYPSX"
      },
      "source": [
        "![screenshot16](screenshot16.png)"
      ]
    },
    {
      "cell_type": "markdown",
      "metadata": {
        "id": "WALM0sGrObWr"
      },
      "source": [
        "# Question 17: In a deck of cards, there are 4 aces. What is the probability of drawing an ace or a heart from a deck of 52 cards? Store your answer in variable prob3. Show screenshot\\\\photograph of your calculation"
      ]
    },
    {
      "cell_type": "code",
      "execution_count": null,
      "metadata": {
        "id": "F4bWsvbjzNYG",
        "outputId": "16bc8f90-9cac-47a0-a99b-9d61bc2bc68b"
      },
      "outputs": [
        {
          "name": "stdout",
          "output_type": "stream",
          "text": [
            "Probability of drawing an ace or a heart (prob3): 0.3076923076923077\n"
          ]
        }
      ],
      "source": [
        "# Number of aces in the deck\n",
        "num_aces = 4\n",
        "\n",
        "# Number of hearts in the deck\n",
        "num_hearts = 13\n",
        "\n",
        "# Number of aces that are hearts\n",
        "num_ace_hearts = 1\n",
        "\n",
        "# Total number of cards in the deck\n",
        "total_cards = 52\n",
        "\n",
        "# Probability of drawing an ace or a heart\n",
        "prob3 = (num_aces + num_hearts - num_ace_hearts) / total_cards\n",
        "print(\"Probability of drawing an ace or a heart (prob3):\", prob3)"
      ]
    },
    {
      "cell_type": "code",
      "execution_count": null,
      "metadata": {
        "id": "yrHy3czdOkMy"
      },
      "outputs": [],
      "source": [
        "prob3 = 0.307692"
      ]
    },
    {
      "cell_type": "code",
      "execution_count": null,
      "metadata": {
        "id": "SsE_zovozNYH",
        "outputId": "c2a12ce3-ef70-4666-cc1f-6d1ec5b0c988"
      },
      "outputs": [
        {
          "data": {
            "text/plain": [
              "True"
            ]
          },
          "execution_count": 91,
          "metadata": {},
          "output_type": "execute_result"
        }
      ],
      "source": [
        "def grader17(prob3):\n",
        "    return math.isclose(prob3,0.307692)\n",
        "\n",
        "grader17(prob3)"
      ]
    },
    {
      "cell_type": "markdown",
      "metadata": {
        "id": "PvT6nRJTYRPs"
      },
      "source": [
        "![screenshot17](screenshot17.png)"
      ]
    },
    {
      "cell_type": "markdown",
      "metadata": {
        "id": "Kvl8MMsSO2QF"
      },
      "source": [
        "# Question 18: Given the vector $v=\\{2,−3,z\\}$, find the value of z such that the vector $v$ is orthogonal to the vector $u=\\{1,4,5\\}$. Store the value in variable z. Show screenshot\\\\photograph of your calculation"
      ]
    },
    {
      "cell_type": "code",
      "execution_count": null,
      "metadata": {
        "id": "-Zx1djLNzNYI",
        "outputId": "3aa59954-45b7-4a1c-f28f-76dd3ed8f257"
      },
      "outputs": [
        {
          "name": "stdout",
          "output_type": "stream",
          "text": [
            "Value of z: 2\n"
          ]
        }
      ],
      "source": [
        "# Given vectors\n",
        "v = [2, -3, None]  # z is unknown\n",
        "u = [1, 4, 5]\n",
        "\n",
        "# To be orthogonal, their dot product must be zero\n",
        "# 2*1 + (-3)*4 + z*5 = 0\n",
        "# 2 - 12 + 5z = 0\n",
        "# 5z = 10\n",
        "# z = 2\n",
        "\n",
        "z = 2\n",
        "print(\"Value of z:\", z)"
      ]
    },
    {
      "cell_type": "code",
      "execution_count": null,
      "metadata": {
        "id": "CGMzWkq6OwHd"
      },
      "outputs": [],
      "source": [
        "z = 2"
      ]
    },
    {
      "cell_type": "code",
      "execution_count": null,
      "metadata": {
        "id": "5CNp3yAZzNYJ",
        "outputId": "254517dd-49f2-4738-f5b7-377e806943ff"
      },
      "outputs": [
        {
          "data": {
            "text/plain": [
              "np.True_"
            ]
          },
          "execution_count": 94,
          "metadata": {},
          "output_type": "execute_result"
        }
      ],
      "source": [
        "def grader_18(z_value):\n",
        "    return np.isclose(z_value, 2)\n",
        "grader_18(z)"
      ]
    },
    {
      "cell_type": "markdown",
      "metadata": {
        "id": "3V68xqhxYSxR"
      },
      "source": [
        "![screenshot18](screenshot18.png)"
      ]
    },
    {
      "cell_type": "markdown",
      "metadata": {
        "id": "oe9ewMpuRxfz"
      },
      "source": [
        "# Question 19: The probability that it will rain tomorrow is 0.3, and the probability that a person will carry an umbrella is 0.6. If the probability of both events happening (rain and umbrella) is 0.2, what is the probability that it will rain given that the person carries an umbrella? Store your answer in variable prob4. Show screenshot\\\\photograph of your calculation"
      ]
    },
    {
      "cell_type": "code",
      "execution_count": null,
      "metadata": {
        "id": "9F964g-ozNYL",
        "outputId": "0cd0f04d-c632-4247-873f-ea179441994f"
      },
      "outputs": [
        {
          "name": "stdout",
          "output_type": "stream",
          "text": [
            "Probability that it will rain given that the person carries an umbrella (prob4): 0.33333333333333337\n"
          ]
        }
      ],
      "source": [
        "prob4 = P_rain_and_umbrella / P_umbrella\n",
        "print(\"Probability that it will rain given that the person carries an umbrella (prob4):\", prob4)"
      ]
    },
    {
      "cell_type": "code",
      "execution_count": null,
      "metadata": {
        "id": "vEu77NX7R6jN"
      },
      "outputs": [],
      "source": [
        "prob4 = 0.333"
      ]
    },
    {
      "cell_type": "code",
      "execution_count": null,
      "metadata": {
        "id": "BphU78z9zNYM",
        "outputId": "46413972-29a9-40bb-939b-07a81dbb35c9"
      },
      "outputs": [
        {
          "data": {
            "text/plain": [
              "True"
            ]
          },
          "execution_count": 99,
          "metadata": {},
          "output_type": "execute_result"
        }
      ],
      "source": [
        "def grader19(prob4):\n",
        "    return math.isclose(prob4, 0.333)\n",
        "\n",
        "grader19(prob4)"
      ]
    },
    {
      "cell_type": "markdown",
      "metadata": {
        "id": "qWfs9WomYcXq"
      },
      "source": [
        "![screenshot19](screenshot19.png)"
      ]
    },
    {
      "cell_type": "markdown",
      "metadata": {
        "id": "6TKHumrkUJrV"
      },
      "source": [
        "# Question 20 : What are the eigen value of matrix $C$ =  \\begin{bmatrix} 2 & 0 \\\\ 0 & 3 \\end{bmatrix}. Store your answer in variables $e_1$ and $e_2$.\n",
        "# Show screenshot\\\\photograph of your calculation"
      ]
    },
    {
      "cell_type": "code",
      "execution_count": null,
      "metadata": {
        "id": "pe7eI9eEzNYO",
        "outputId": "9a084550-08fe-40e5-b8e7-8a608c5ea1ed"
      },
      "outputs": [
        {
          "name": "stdout",
          "output_type": "stream",
          "text": [
            "Eigenvalues: 2.0 3.0\n"
          ]
        }
      ],
      "source": [
        "C = np.array([[2, 0], [0, 3]])\n",
        "\n",
        "# Compute the eigenvalues\n",
        "eigenvalues = np.linalg.eigvals(C)\n",
        "e1, e2 = eigenvalues\n",
        "\n",
        "print(\"Eigenvalues:\", e1, e2)"
      ]
    },
    {
      "cell_type": "code",
      "execution_count": null,
      "metadata": {
        "id": "i8HMuUKcUMo3",
        "outputId": "6c462066-213e-40c7-cb3a-8c1769498d30"
      },
      "outputs": [
        {
          "data": {
            "text/plain": [
              "True"
            ]
          },
          "execution_count": 116,
          "metadata": {},
          "output_type": "execute_result"
        }
      ],
      "source": [
        "e1 == 2\n",
        "e2 == 3"
      ]
    },
    {
      "cell_type": "code",
      "execution_count": null,
      "metadata": {
        "id": "ayigoimyzNYP",
        "outputId": "32074171-7cc6-4597-e70c-f4746f5d4593"
      },
      "outputs": [
        {
          "data": {
            "text/plain": [
              "False"
            ]
          },
          "execution_count": 117,
          "metadata": {},
          "output_type": "execute_result"
        }
      ],
      "source": [
        "def grader20(e1, e2):\n",
        "    if (e1 == 2 and e2 == 3) or \\\n",
        "       (e1 == 3 and e2 == 2):\n",
        "        return True\n",
        "    else:\n",
        "        return False\n",
        "grader20(lambda1, lambda2)"
      ]
    },
    {
      "cell_type": "markdown",
      "metadata": {
        "id": "jjZQK2FNYfLs"
      },
      "source": [
        "![screenshot20](screenshot20.png)"
      ]
    }
  ],
  "metadata": {
    "colab": {
      "provenance": [],
      "include_colab_link": true
    },
    "kernelspec": {
      "display_name": "Python 3",
      "name": "python3"
    },
    "language_info": {
      "codemirror_mode": {
        "name": "ipython",
        "version": 3
      },
      "file_extension": ".py",
      "mimetype": "text/x-python",
      "name": "python",
      "nbconvert_exporter": "python",
      "pygments_lexer": "ipython3",
      "version": "3.13.0"
    }
  },
  "nbformat": 4,
  "nbformat_minor": 0
}