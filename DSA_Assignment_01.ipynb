{
  "cells": [
    {
      "cell_type": "markdown",
      "metadata": {
        "id": "view-in-github",
        "colab_type": "text"
      },
      "source": [
        "<a href=\"https://colab.research.google.com/github/AbduRouf/DSAIRPFeb25/blob/main/DSA_Assignment_01.ipynb\" target=\"_parent\"><img src=\"https://colab.research.google.com/assets/colab-badge.svg\" alt=\"Open In Colab\"/></a>"
      ]
    },
    {
      "cell_type": "markdown",
      "metadata": {
        "id": "HbLIxpSvXEYI"
      },
      "source": [
        "# Statistics Assignment: Descriptive and Inferential Statistics\n",
        "\n",
        "This notebook covers all the questions from the assignment using Python. For Excel/Google Sheets, the formulas are provided in the markdown cells."
      ]
    },
    {
      "cell_type": "markdown",
      "metadata": {
        "id": "AsLZFOAjXEYN"
      },
      "source": [
        "## Section 1: Descriptive Statistics\n",
        "\n",
        "### 1. Measures of Central Tendency\n",
        "Dataset: `[12, 15, 14, 10, 18, 20, 22, 24, 17, 19]`"
      ]
    },
    {
      "cell_type": "code",
      "execution_count": 1,
      "metadata": {
        "colab": {
          "base_uri": "https://localhost:8080/"
        },
        "id": "3qiHIzuwXEYO",
        "outputId": "3004336c-b4b3-4415-8487-040a5444e774"
      },
      "outputs": [
        {
          "output_type": "stream",
          "name": "stdout",
          "text": [
            "Mean: 17.1\n",
            "Median: 17.5\n",
            "Mode: No unique mode\n"
          ]
        }
      ],
      "source": [
        "data = [12, 15, 14, 10, 18, 20, 22, 24, 17, 19]\n",
        "\n",
        "mean_value = sum(data) / len(data)\n",
        "sorted_data = sorted(data)\n",
        "median_value = sorted_data[len(data)//2] if len(data) % 2 != 0 else (sorted_data[len(data)//2 - 1] + sorted_data[len(data)//2]) / 2\n",
        "\n",
        "print('Mean:', mean_value)\n",
        "print('Median:', median_value)\n",
        "print('Mode: No unique mode')"
      ]
    },
    {
      "cell_type": "markdown",
      "metadata": {
        "id": "PSmUbun9XEYQ"
      },
      "source": [
        "#### Excel/Google Sheets Formulas:\n",
        "- Mean: `=AVERAGE(A1:A10)`\n",
        "- Median: `=MEDIAN(A1:A10)`\n",
        "- Mode: `=MODE(A1:A10)` (may return an error or a default value if no unique mode exists)"
      ]
    },
    {
      "cell_type": "markdown",
      "metadata": {
        "id": "cCi2fvXaXEYR"
      },
      "source": [
        "### 2. Percentiles and Quartiles\n",
        "\n",
        "Compute the 25th percentile (Q1), 50th percentile (Q2), and 75th percentile (Q3)."
      ]
    },
    {
      "cell_type": "code",
      "execution_count": 2,
      "metadata": {
        "colab": {
          "base_uri": "https://localhost:8080/"
        },
        "id": "vKdc3PMzXEYS",
        "outputId": "0369143a-9b80-406b-8456-826b58e85053"
      },
      "outputs": [
        {
          "output_type": "stream",
          "name": "stdout",
          "text": [
            "Q1: 14.25\n",
            "Q2: 17.5\n",
            "Q3: 19.75\n"
          ]
        }
      ],
      "source": [
        "import numpy as np\n",
        "\n",
        "q1 = np.percentile(data, 25)\n",
        "q2 = np.percentile(data, 50)\n",
        "q3 = np.percentile(data, 75)\n",
        "\n",
        "print('Q1:', q1)\n",
        "print('Q2:', q2)\n",
        "print('Q3:', q3)"
      ]
    },
    {
      "cell_type": "markdown",
      "metadata": {
        "id": "cKxL0VwiXEYT"
      },
      "source": [
        "#### Excel/Google Sheets Formulas:\n",
        "- Q1: `=PERCENTILE(A1:A10, 0.25)`\n",
        "- Q2: `=PERCENTILE(A1:A10, 0.50)`\n",
        "- Q3: `=PERCENTILE(A1:A10, 0.75)`"
      ]
    },
    {
      "cell_type": "markdown",
      "metadata": {
        "id": "v6zUh-xCXEYU"
      },
      "source": [
        "### 3. Interquartile Range (IQR)\n",
        "\n",
        "IQR = Q3 - Q1. It shows the spread of the middle 50% of the data and is less affected by outliers."
      ]
    },
    {
      "cell_type": "code",
      "execution_count": 3,
      "metadata": {
        "colab": {
          "base_uri": "https://localhost:8080/"
        },
        "id": "uuZNgv7xXEYV",
        "outputId": "e2809dff-9b89-427c-9d9d-19982f90a892"
      },
      "outputs": [
        {
          "output_type": "stream",
          "name": "stdout",
          "text": [
            "IQR: 5.5\n"
          ]
        }
      ],
      "source": [
        "iqr = q3 - q1\n",
        "print('IQR:', iqr)"
      ]
    },
    {
      "cell_type": "markdown",
      "metadata": {
        "id": "EmXmhCIyXEYW"
      },
      "source": [
        "#### Excel/Google Sheets Formula:\n",
        "`=PERCENTILE(A1:A10, 0.75) - PERCENTILE(A1:A10, 0.25)`"
      ]
    },
    {
      "cell_type": "markdown",
      "metadata": {
        "id": "e85QW7lSXEYX"
      },
      "source": [
        "### 4. Minimum and Maximum Values"
      ]
    },
    {
      "cell_type": "code",
      "execution_count": 4,
      "metadata": {
        "colab": {
          "base_uri": "https://localhost:8080/"
        },
        "id": "60_mqPZvXEYY",
        "outputId": "d1002264-82ed-48c5-efd1-c83e661fc21e"
      },
      "outputs": [
        {
          "output_type": "stream",
          "name": "stdout",
          "text": [
            "Min: 10\n",
            "Max: 24\n"
          ]
        }
      ],
      "source": [
        "minimum = min(data)\n",
        "maximum = max(data)\n",
        "print('Min:', minimum)\n",
        "print('Max:', maximum)"
      ]
    },
    {
      "cell_type": "markdown",
      "metadata": {
        "id": "vZWFWO-sXEYZ"
      },
      "source": [
        "#### Excel/Google Sheets Formulas:\n",
        "- Min: `=MIN(A1:A10)`\n",
        "- Max: `=MAX(A1:A10)`"
      ]
    },
    {
      "cell_type": "markdown",
      "metadata": {
        "id": "w8CRp-sUXEYa"
      },
      "source": [
        "### 5. Finding Outliers Using Quartiles\n",
        "\n",
        "Compute the Lower Bound and Upper Bound, then identify any outliers."
      ]
    },
    {
      "cell_type": "code",
      "execution_count": 5,
      "metadata": {
        "colab": {
          "base_uri": "https://localhost:8080/"
        },
        "id": "4efHMJQkXEYa",
        "outputId": "8c2f0ac5-b59f-483b-8b79-9856776cb0d0"
      },
      "outputs": [
        {
          "output_type": "stream",
          "name": "stdout",
          "text": [
            "Lower Bound: 6.0\n",
            "Upper Bound: 28.0\n",
            "Outliers: []\n"
          ]
        }
      ],
      "source": [
        "lower_bound = q1 - 1.5 * iqr\n",
        "upper_bound = q3 + 1.5 * iqr\n",
        "outliers = [x for x in data if x < lower_bound or x > upper_bound]\n",
        "\n",
        "print('Lower Bound:', lower_bound)\n",
        "print('Upper Bound:', upper_bound)\n",
        "print('Outliers:', outliers)"
      ]
    },
    {
      "cell_type": "markdown",
      "metadata": {
        "id": "qkcXDQ6vXEYb"
      },
      "source": [
        "### 6. Measures of Dispersion\n",
        "\n",
        "Compute the Range, Variance, and Standard Deviation."
      ]
    },
    {
      "cell_type": "code",
      "execution_count": 6,
      "metadata": {
        "colab": {
          "base_uri": "https://localhost:8080/"
        },
        "id": "oheCdCBxXEYb",
        "outputId": "951a1408-6cc9-4efc-8fc7-5cc1bc090828"
      },
      "outputs": [
        {
          "output_type": "stream",
          "name": "stdout",
          "text": [
            "Range: 14\n",
            "Variance: 17.490000000000002\n",
            "Standard Deviation: 4.182104733265297\n"
          ]
        }
      ],
      "source": [
        "range_val = maximum - minimum\n",
        "variance = sum((x - mean_value)**2 for x in data) / len(data)\n",
        "std_deviation = variance**0.5\n",
        "\n",
        "print('Range:', range_val)\n",
        "print('Variance:', variance)\n",
        "print('Standard Deviation:', std_deviation)"
      ]
    },
    {
      "cell_type": "markdown",
      "metadata": {
        "id": "iYtJfWuxXEYc"
      },
      "source": [
        "#### Excel/Google Sheets Formulas:\n",
        "- Range: `=MAX(A1:A10)-MIN(A1:A10)`\n",
        "- Variance (Population): `=VAR.P(A1:A10)`\n",
        "- Standard Deviation (Population): `=STDEV.P(A1:A10)`"
      ]
    },
    {
      "cell_type": "markdown",
      "metadata": {
        "id": "N7aLEJpqXEYc"
      },
      "source": [
        "### 7. Z-score Standardization\n",
        "\n",
        "Compute the Z-scores for each value. Z-score = (value - mean) / standard deviation."
      ]
    },
    {
      "cell_type": "code",
      "execution_count": 7,
      "metadata": {
        "colab": {
          "base_uri": "https://localhost:8080/"
        },
        "id": "7-GwcDCuXEYc",
        "outputId": "4cc2bf42-8111-4030-dd18-58ae65e42865"
      },
      "outputs": [
        {
          "output_type": "stream",
          "name": "stdout",
          "text": [
            "Z-scores: [-1.2194816546399667, -0.5021395048517512, -0.7412535547811564, -1.6977097544987771, 0.21520264493646432, 0.6934307447952747, 1.171658844654085, 1.6498869445128954, -0.02391140499294086, 0.4543166948658695]\n"
          ]
        }
      ],
      "source": [
        "z_scores = [(x - mean_value) / std_deviation for x in data]\n",
        "print('Z-scores:', z_scores)"
      ]
    },
    {
      "cell_type": "markdown",
      "metadata": {
        "id": "IoNDsGVJXEYd"
      },
      "source": [
        "### 8. Correlation Coefficient\n",
        "\n",
        "Given the datasets:\n",
        "- x = `[10, 20, 30, 40, 50]`\n",
        "- y = `[5, 10, 15, 20, 25]`\n",
        "\n",
        "Compute the Pearson correlation coefficient."
      ]
    },
    {
      "cell_type": "code",
      "execution_count": 8,
      "metadata": {
        "colab": {
          "base_uri": "https://localhost:8080/"
        },
        "id": "sI1t2eNOXEYd",
        "outputId": "c6aea190-a0d4-4df6-b67f-8e13a2fe9ab2"
      },
      "outputs": [
        {
          "output_type": "stream",
          "name": "stdout",
          "text": [
            "Pearson correlation coefficient: 1.0\n"
          ]
        }
      ],
      "source": [
        "x = [10, 20, 30, 40, 50]\n",
        "y = [5, 10, 15, 20, 25]\n",
        "corr_coeff = np.corrcoef(x, y)[0, 1]\n",
        "print('Pearson correlation coefficient:', corr_coeff)"
      ]
    },
    {
      "cell_type": "markdown",
      "metadata": {
        "id": "o1oNPamlXEYe"
      },
      "source": [
        "### 9. Scatter Plot Visualization\n",
        "\n",
        "Create a scatter plot to inspect the correlation between x and y."
      ]
    },
    {
      "cell_type": "code",
      "execution_count": 9,
      "metadata": {
        "colab": {
          "base_uri": "https://localhost:8080/",
          "height": 472
        },
        "id": "QuMB_ADoXEYe",
        "outputId": "883cc1b0-3208-43c5-b7b6-e05f145dad66"
      },
      "outputs": [
        {
          "output_type": "display_data",
          "data": {
            "text/plain": [
              "<Figure size 640x480 with 1 Axes>"
            ],
            "image/png": "[encoded data removed]"
          },
          "metadata": {}
        }
      ],
      "source": [
        "import matplotlib.pyplot as plt\n",
        "\n",
        "plt.scatter(x, y)\n",
        "plt.xlabel('x')\n",
        "plt.ylabel('y')\n",
        "plt.title('Scatter Plot of x vs y')\n",
        "plt.show()"
      ]
    },
    {
      "cell_type": "markdown",
      "metadata": {
        "id": "EPp_g1CwXEYf"
      },
      "source": [
        "### 10. Box Plot Visualization\n",
        "\n",
        "Create a box plot for the dataset to show Q1, Q2, Q3, lower and upper bounds, and outliers."
      ]
    },
    {
      "cell_type": "code",
      "execution_count": 10,
      "metadata": {
        "colab": {
          "base_uri": "https://localhost:8080/",
          "height": 452
        },
        "id": "GxNnOnTPXEYf",
        "outputId": "2ca3b68d-6338-43fd-989c-52824ee3ffd6"
      },
      "outputs": [
        {
          "output_type": "display_data",
          "data": {
            "text/plain": [
              "<Figure size 640x480 with 1 Axes>"
            ],
            "image/png": "[encoded data removed]"
          },
          "metadata": {}
        }
      ],
      "source": [
        "plt.boxplot(data)\n",
        "plt.ylabel('Values')\n",
        "plt.title('Box Plot of the Dataset')\n",
        "plt.show()"
      ]
    },
    {
      "cell_type": "markdown",
      "metadata": {
        "id": "BeKhGBxpXEYg"
      },
      "source": [
        "### 11. Histogram Analysis\n",
        "\n",
        "Construct a histogram to show the frequency distribution of the dataset."
      ]
    },
    {
      "cell_type": "code",
      "execution_count": 11,
      "metadata": {
        "colab": {
          "base_uri": "https://localhost:8080/",
          "height": 472
        },
        "id": "ftLe2r_pXEYh",
        "outputId": "1c81025f-54aa-4cda-cec5-ba60a8a50877"
      },
      "outputs": [
        {
          "output_type": "display_data",
          "data": {
            "text/plain": [
              "<Figure size 640x480 with 1 Axes>"
            ],
            "image/png": "[encoded data removed]"
          },
          "metadata": {}
        }
      ],
      "source": [
        "plt.hist(data, bins=5)\n",
        "plt.xlabel('Data Range')\n",
        "plt.ylabel('Frequency')\n",
        "plt.title('Histogram of the Dataset')\n",
        "plt.show()"
      ]
    },
    {
      "cell_type": "markdown",
      "metadata": {
        "id": "BKZds0xkXEYh"
      },
      "source": [
        "## Section 2: Inferential Statistics"
      ]
    },
    {
      "cell_type": "markdown",
      "metadata": {
        "id": "a6E_MBXAXEYh"
      },
      "source": [
        "**12. Why Inferential Statistics?**\n",
        "\n",
        "Inferential statistics allow us to make conclusions about a population based on a sample. Correlation shows a relationship but does not imply causation. For example, while ice cream sales and drowning incidents may be correlated (both increase in summer), one does not cause the other."
      ]
    },
    {
      "cell_type": "markdown",
      "metadata": {
        "id": "JXEtvgbEXEYi"
      },
      "source": [
        "**13. Population vs. Sample**\n",
        "\n",
        "Sampling is necessary when studying an entire population is impractical. For instance, polling a subset of voters to predict an election outcome."
      ]
    },
    {
      "cell_type": "markdown",
      "metadata": {
        "id": "psAVaFZVXEYj"
      },
      "source": [
        "**14. Hypothesis Testing Concepts**\n",
        "\n",
        "- **Null Hypothesis (H₀):** No effect or difference.\n",
        "- **Alternate Hypothesis (H₁):** There is an effect or difference.\n",
        "- **Significance Level (α):** Commonly set at 0.05.\n",
        "- **P-value:** The probability of obtaining the observed result if H₀ is true."
      ]
    },
    {
      "cell_type": "markdown",
      "metadata": {
        "id": "kzR5QHtrXEYk"
      },
      "source": [
        "**15. Z-test Calculation**\n",
        "\n",
        "Given:\n",
        "- Sample mean = 25\n",
        "- Population mean = 22\n",
        "- Population standard deviation = 3\n",
        "- Sample size = 40"
      ]
    },
    {
      "cell_type": "code",
      "execution_count": 12,
      "metadata": {
        "colab": {
          "base_uri": "https://localhost:8080/"
        },
        "id": "4-eUcBF3XEYl",
        "outputId": "b357db0a-3ab0-456a-e614-94a13718487e"
      },
      "outputs": [
        {
          "output_type": "stream",
          "name": "stdout",
          "text": [
            "Z-test statistic: 6.324555320336759\n"
          ]
        }
      ],
      "source": [
        "import math\n",
        "\n",
        "sample_mean = 25\n",
        "pop_mean = 22\n",
        "pop_std = 3\n",
        "sample_size = 40\n",
        "std_error = pop_std / math.sqrt(sample_size)\n",
        "z_stat = (sample_mean - pop_mean) / std_error\n",
        "\n",
        "print('Z-test statistic:', z_stat)"
      ]
    },
    {
      "cell_type": "markdown",
      "metadata": {
        "id": "gJliUWD_XEYl"
      },
      "source": [
        "**16. P-value Computation for Z-test**\n",
        "\n",
        "A Z-score of approximately 6.32 corresponds to a p-value near 0. Since p < 0.05, we reject the null hypothesis."
      ]
    },
    {
      "cell_type": "markdown",
      "metadata": {
        "id": "kqHukTCLXEYm"
      },
      "source": [
        "**17. One Sample T-test**\n",
        "\n",
        "Test if the mean of the sample data `[45, 50, 55, 60, 62, 48, 52]` is significantly different from 50."
      ]
    },
    {
      "cell_type": "code",
      "execution_count": 13,
      "metadata": {
        "colab": {
          "base_uri": "https://localhost:8080/"
        },
        "id": "i0aY5HcrXEYm",
        "outputId": "18b1925c-02ee-46eb-aaae-38934ff3954a"
      },
      "outputs": [
        {
          "output_type": "stream",
          "name": "stdout",
          "text": [
            "One-sample t-test statistic: 1.3347640585603673\n",
            "P-value: 0.23036820014089662\n"
          ]
        }
      ],
      "source": [
        "import scipy.stats as st\n",
        "\n",
        "sample_data = [45, 50, 55, 60, 62, 48, 52]\n",
        "t_stat, p_val = st.ttest_1samp(sample_data, 50)\n",
        "\n",
        "print('One-sample t-test statistic:', t_stat)\n",
        "print('P-value:', p_val)"
      ]
    },
    {
      "cell_type": "markdown",
      "metadata": {
        "id": "SVrvIL3eXEYn"
      },
      "source": [
        "**18. Independent Sample T-test**\n",
        "\n",
        "Compare the means of two groups:\n",
        "- Group 1: `[85, 90, 88, 92, 86]`\n",
        "- Group 2: `[78, 75, 80, 83, 79]`"
      ]
    },
    {
      "cell_type": "code",
      "execution_count": 14,
      "metadata": {
        "colab": {
          "base_uri": "https://localhost:8080/"
        },
        "id": "1PaM8MruXEYn",
        "outputId": "a16952dc-f8e2-4112-c764-0d0b82dbb214"
      },
      "outputs": [
        {
          "output_type": "stream",
          "name": "stdout",
          "text": [
            "Independent sample t-test statistic: 5.034016027514163\n",
            "P-value: 0.0010091081285779936\n"
          ]
        }
      ],
      "source": [
        "group1 = [85, 90, 88, 92, 86]\n",
        "group2 = [78, 75, 80, 83, 79]\n",
        "t_stat_ind, p_val_ind = st.ttest_ind(group1, group2, equal_var=True)\n",
        "\n",
        "print('Independent sample t-test statistic:', t_stat_ind)\n",
        "print('P-value:', p_val_ind)"
      ]
    },
    {
      "cell_type": "markdown",
      "metadata": {
        "id": "q3qw42aQXEY4"
      },
      "source": [
        "**19. Critical T-value Lookup**\n",
        "\n",
        "For two groups with degrees of freedom = (5+5-2) = 8 and α = 0.05 (two-tailed), the critical t-value is approximately 2.306. Since our computed t-value is greater than this, we reject the null hypothesis."
      ]
    },
    {
      "cell_type": "markdown",
      "metadata": {
        "id": "VsIIqoyrXEY5"
      },
      "source": [
        "**20. Summary and Insights**\n",
        "\n",
        "Descriptive statistics summarize and describe data (e.g., mean, median, range), while inferential statistics allow us to draw conclusions about a population from sample data. Together, they are essential for informed decision-making in various fields."
      ]
    }
  ],
  "metadata": {
    "colab": {
      "provenance": [],
      "include_colab_link": true
    },
    "kernelspec": {
      "display_name": "Python 3",
      "language": "python",
      "name": "python3"
    },
    "language_info": {
      "name": "python",
      "version": "3.x"
    }
  },
  "nbformat": 4,
  "nbformat_minor": 0
}